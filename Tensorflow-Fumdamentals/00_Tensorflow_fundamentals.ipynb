{
 "cells": [
  {
   "cell_type": "code",
   "id": "initial_id",
   "metadata": {
    "collapsed": true,
    "ExecuteTime": {
     "end_time": "2025-07-15T02:00:41.388113Z",
     "start_time": "2025-07-15T02:00:38.410628Z"
    }
   },
   "source": [
    "import tensorflow as tf\n",
    "print(tf.__version__)"
   ],
   "outputs": [
    {
     "name": "stderr",
     "output_type": "stream",
     "text": [
      "C:\\Users\\Administrator\\anaconda3\\envs\\Twnsorflow-learning\\Lib\\site-packages\\requests\\__init__.py:86: RequestsDependencyWarning: Unable to find acceptable character detection dependency (chardet or charset_normalizer).\n",
      "  warnings.warn(\n"
     ]
    },
    {
     "name": "stdout",
     "output_type": "stream",
     "text": [
      "2.19.0\n"
     ]
    }
   ],
   "execution_count": 1
  },
  {
   "metadata": {
    "ExecuteTime": {
     "end_time": "2025-07-15T02:05:17.998303Z",
     "start_time": "2025-07-15T02:05:17.993787Z"
    }
   },
   "cell_type": "code",
   "source": [
    "# 创建第一个Tensor\n",
    "scalar = tf.constant([2,7])\n",
    "scalar"
   ],
   "id": "9a1284223759e98c",
   "outputs": [
    {
     "data": {
      "text/plain": [
       "<tf.Tensor: shape=(2,), dtype=int32, numpy=array([2, 7], dtype=int32)>"
      ]
     },
     "execution_count": 9,
     "metadata": {},
     "output_type": "execute_result"
    }
   ],
   "execution_count": 9
  },
  {
   "metadata": {
    "ExecuteTime": {
     "end_time": "2025-07-15T02:05:18.491864Z",
     "start_time": "2025-07-15T02:05:18.488864Z"
    }
   },
   "cell_type": "code",
   "source": [
    "# 检查Tensor的维数\n",
    "print(scalar.ndim)"
   ],
   "id": "636694d6fe569350",
   "outputs": [
    {
     "name": "stdout",
     "output_type": "stream",
     "text": [
      "1\n"
     ]
    }
   ],
   "execution_count": 10
  },
  {
   "metadata": {
    "ExecuteTime": {
     "end_time": "2025-07-15T02:06:05.084079Z",
     "start_time": "2025-07-15T02:06:05.080066Z"
    }
   },
   "cell_type": "code",
   "source": [
    "# 创建一个向量\n",
    "vector = tf.constant([10, 10])\n",
    "vector"
   ],
   "id": "e7321c08b93c3c7d",
   "outputs": [
    {
     "data": {
      "text/plain": [
       "<tf.Tensor: shape=(2,), dtype=int32, numpy=array([10, 10], dtype=int32)>"
      ]
     },
     "execution_count": 11,
     "metadata": {},
     "output_type": "execute_result"
    }
   ],
   "execution_count": 11
  },
  {
   "metadata": {
    "ExecuteTime": {
     "end_time": "2025-07-15T02:07:06.139623Z",
     "start_time": "2025-07-15T02:07:06.137159Z"
    }
   },
   "cell_type": "code",
   "source": [
    "# 检查Tensor vector 的向量维数\n",
    "print(vector.ndim)"
   ],
   "id": "4dd3b52579a8e20d",
   "outputs": [
    {
     "name": "stdout",
     "output_type": "stream",
     "text": [
      "1\n"
     ]
    }
   ],
   "execution_count": 12
  },
  {
   "metadata": {
    "ExecuteTime": {
     "end_time": "2025-07-15T02:08:51.964086Z",
     "start_time": "2025-07-15T02:08:51.960122Z"
    }
   },
   "cell_type": "code",
   "source": [
    "# 创建一个矩阵\n",
    "matrix = tf.constant([[1, 2, 3],\n",
    "                      [4, 5, 6]],shape= (2,3))\n",
    "matrix"
   ],
   "id": "af41391c6e0e99d9",
   "outputs": [
    {
     "data": {
      "text/plain": [
       "<tf.Tensor: shape=(2, 3), dtype=int32, numpy=\n",
       "array([[1, 2, 3],\n",
       "       [4, 5, 6]], dtype=int32)>"
      ]
     },
     "execution_count": 15,
     "metadata": {},
     "output_type": "execute_result"
    }
   ],
   "execution_count": 15
  },
  {
   "metadata": {
    "ExecuteTime": {
     "end_time": "2025-07-15T02:09:21.188366Z",
     "start_time": "2025-07-15T02:09:21.184511Z"
    }
   },
   "cell_type": "code",
   "source": [
    "# 检查向量的维数\n",
    "print(matrix.ndim)"
   ],
   "id": "2ba2edb59c4bf743",
   "outputs": [
    {
     "name": "stdout",
     "output_type": "stream",
     "text": [
      "2\n"
     ]
    }
   ],
   "execution_count": 16
  },
  {
   "metadata": {
    "ExecuteTime": {
     "end_time": "2025-07-15T02:10:37.999807Z",
     "start_time": "2025-07-15T02:10:37.997068Z"
    }
   },
   "cell_type": "code",
   "source": [
    "matrix2 = tf.constant([[1,2,3],\n",
    "                      [2,4,6]])\n",
    "print(matrix2.ndim)"
   ],
   "id": "28822eb3669fa198",
   "outputs": [
    {
     "name": "stdout",
     "output_type": "stream",
     "text": [
      "2\n"
     ]
    }
   ],
   "execution_count": 18
  },
  {
   "metadata": {
    "ExecuteTime": {
     "end_time": "2025-07-15T02:13:47.321224Z",
     "start_time": "2025-07-15T02:13:47.317174Z"
    }
   },
   "cell_type": "code",
   "source": [
    "another_matrix = tf.constant([[10.,7.],\n",
    "                              [3.,6.],\n",
    "                              [5.,8.]],dtype = tf.float16) # 指定数据类型\n",
    "print(another_matrix)"
   ],
   "id": "aa269eb40805a82c",
   "outputs": [
    {
     "name": "stdout",
     "output_type": "stream",
     "text": [
      "tf.Tensor(\n",
      "[[10.  7.]\n",
      " [ 3.  6.]\n",
      " [ 5.  8.]], shape=(3, 2), dtype=float16)\n"
     ]
    }
   ],
   "execution_count": 20
  },
  {
   "metadata": {
    "ExecuteTime": {
     "end_time": "2025-07-15T02:14:36.572443Z",
     "start_time": "2025-07-15T02:14:36.570212Z"
    }
   },
   "cell_type": "code",
   "source": [
    "# 查看another_matrix的维数\n",
    "print(another_matrix.ndim)"
   ],
   "id": "5542b198a9dcff38",
   "outputs": [
    {
     "name": "stdout",
     "output_type": "stream",
     "text": [
      "2\n"
     ]
    }
   ],
   "execution_count": 21
  },
  {
   "metadata": {
    "ExecuteTime": {
     "end_time": "2025-07-15T02:17:12.039893Z",
     "start_time": "2025-07-15T02:17:12.035375Z"
    }
   },
   "cell_type": "code",
   "source": [
    "# 创建一个Tensor来增加维数\n",
    "tensor = tf.constant([[[1,2,3],[4,5,6]],\n",
    "                      [[7,8,9],[8,9,10]],\n",
    "                      [[11,12,13],[14,15,16]]])\n",
    "\n",
    "tensor"
   ],
   "id": "904973f06725e5b7",
   "outputs": [
    {
     "data": {
      "text/plain": [
       "<tf.Tensor: shape=(3, 2, 3), dtype=int32, numpy=\n",
       "array([[[ 1,  2,  3],\n",
       "        [ 4,  5,  6]],\n",
       "\n",
       "       [[ 7,  8,  9],\n",
       "        [ 8,  9, 10]],\n",
       "\n",
       "       [[11, 12, 13],\n",
       "        [14, 15, 16]]], dtype=int32)>"
      ]
     },
     "execution_count": 22,
     "metadata": {},
     "output_type": "execute_result"
    }
   ],
   "execution_count": 22
  },
  {
   "metadata": {
    "ExecuteTime": {
     "end_time": "2025-07-15T02:17:47.840326Z",
     "start_time": "2025-07-15T02:17:47.837019Z"
    }
   },
   "cell_type": "code",
   "source": [
    "# 查看tensor的维数\n",
    "tensor.ndim"
   ],
   "id": "3522a57013581c2b",
   "outputs": [
    {
     "data": {
      "text/plain": [
       "3"
      ]
     },
     "execution_count": 23,
     "metadata": {},
     "output_type": "execute_result"
    }
   ],
   "execution_count": 23
  },
  {
   "metadata": {},
   "cell_type": "code",
   "outputs": [],
   "execution_count": null,
   "source": [
    "### 总结\n",
    "# scaler:0维 表示一个数\n",
    "# vector:1维 表示一个向量\n",
    "# matrix:2维 表示一个矩阵\n",
    "# tensor:3维 表示一个张量"
   ],
   "id": "2661f79e9bc2a260"
  }
 ],
 "metadata": {
  "kernelspec": {
   "display_name": "Python 3",
   "language": "python",
   "name": "python3"
  },
  "language_info": {
   "codemirror_mode": {
    "name": "ipython",
    "version": 2
   },
   "file_extension": ".py",
   "mimetype": "text/x-python",
   "name": "python",
   "nbconvert_exporter": "python",
   "pygments_lexer": "ipython2",
   "version": "2.7.6"
  }
 },
 "nbformat": 4,
 "nbformat_minor": 5
}
